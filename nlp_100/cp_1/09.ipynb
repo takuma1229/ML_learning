{
 "cells": [
  {
   "cell_type": "code",
   "execution_count": 8,
   "metadata": {},
   "outputs": [],
   "source": [
    "import random\n",
    "\n",
    "def typoglycemia(string):\n",
    "  words = string.split()\n",
    "  ans = []\n",
    "  for i in words:\n",
    "    if len(i) <= 4:\n",
    "      ans.append(i)\n",
    "      continue\n",
    "    else:\n",
    "      first = i[0]\n",
    "      last = i[-1]\n",
    "      middle = i[1:len(i)-1]\n",
    "      middle = list(middle)\n",
    "      random.shuffle(middle)\n",
    "      middle = \"\".join(middle)\n",
    "      word = first + middle + last\n",
    "      ans.append(word)\n",
    "\n",
    "  print(\" \".join(ans))\n",
    "      "
   ]
  },
  {
   "cell_type": "code",
   "execution_count": 9,
   "metadata": {},
   "outputs": [
    {
     "name": "stdout",
     "output_type": "stream",
     "text": [
      "I c’onuldt blieeve that I cuold aulctaly unenatsdrd what I was radeing : the pnemhnaoel peowr of the human mind .\n"
     ]
    }
   ],
   "source": [
    "typoglycemia(\"I couldn’t believe that I could actually understand what I was reading : the phenomenal power of the human mind .\")"
   ]
  }
 ],
 "metadata": {
  "kernelspec": {
   "display_name": "Python 3.9.7 64-bit",
   "name": "python397jvsc74a57bd0ac2eaa0ea0ebeafcc7822e65e46aa9d4f966f30b695406963e145ea4a91cd4fc"
  },
  "language_info": {
   "codemirror_mode": {
    "name": "ipython",
    "version": 3
   },
   "file_extension": ".py",
   "mimetype": "text/x-python",
   "name": "python",
   "nbconvert_exporter": "python",
   "pygments_lexer": "ipython3",
   "version": "3.9.7"
  },
  "metadata": {
   "interpreter": {
    "hash": "ac2eaa0ea0ebeafcc7822e65e46aa9d4f966f30b695406963e145ea4a91cd4fc"
   }
  },
  "orig_nbformat": 2
 },
 "nbformat": 4,
 "nbformat_minor": 2
}