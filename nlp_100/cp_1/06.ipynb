{
 "cells": [
  {
   "cell_type": "code",
   "execution_count": 38,
   "metadata": {},
   "outputs": [],
   "source": [
    "S1 = \"paraparaparadise\"\n",
    "S2 = \"paragragh\""
   ]
  },
  {
   "cell_type": "code",
   "execution_count": 39,
   "metadata": {},
   "outputs": [],
   "source": [
    "def ngram(n, lst):\n",
    "  # ex.\n",
    "  # [str[i:] for i in range(2)] -> ['I am an NLPer', ' am an NLPer']\n",
    "  # zip(*[str[i:] for i in range(2)]) -> zip('I am an NLPer', ' am an NLPer')\n",
    "  return list(zip(*[lst[i:] for i in range(n)]))\n"
   ]
  },
  {
   "cell_type": "code",
   "execution_count": 40,
   "metadata": {},
   "outputs": [
    {
     "name": "stdout",
     "output_type": "stream",
     "text": [
      "{('p', 'a'), ('a', 'r'), ('i', 's'), ('r', 'a'), ('d', 'i'), ('a', 'd'), ('s', 'e'), ('a', 'p')}\n",
      "{('p', 'a'), ('a', 'r'), ('a', 'g'), ('r', 'a'), ('g', 'h'), ('g', 'r')}\n"
     ]
    }
   ],
   "source": [
    "X = set(ngram(2,S1))\n",
    "Y = set(ngram(2,S2))\n",
    "print(X)\n",
    "print(Y)"
   ]
  },
  {
   "cell_type": "code",
   "execution_count": 41,
   "metadata": {},
   "outputs": [
    {
     "name": "stdout",
     "output_type": "stream",
     "text": [
      "{('p', 'a'), ('a', 'r'), ('a', 'g'), ('i', 's'), ('r', 'a'), ('d', 'i'), ('g', 'h'), ('a', 'd'), ('s', 'e'), ('g', 'r'), ('a', 'p')}\n"
     ]
    }
   ],
   "source": [
    "sum_group = X | Y\n",
    "print(sum_group)"
   ]
  },
  {
   "cell_type": "code",
   "execution_count": 42,
   "metadata": {},
   "outputs": [
    {
     "name": "stdout",
     "output_type": "stream",
     "text": [
      "{('p', 'a'), ('r', 'a'), ('a', 'r')}\n"
     ]
    }
   ],
   "source": [
    "product_group = X & Y\n",
    "\n",
    "print(product_group)\n"
   ]
  },
  {
   "cell_type": "code",
   "execution_count": 45,
   "metadata": {},
   "outputs": [
    {
     "name": "stdout",
     "output_type": "stream",
     "text": [
      "{('i', 's'), ('d', 'i'), ('a', 'd'), ('s', 'e'), ('a', 'p')}\n"
     ]
    }
   ],
   "source": [
    "dif_group = X - Y\n",
    "print(dif_group)\n",
    "\n"
   ]
  },
  {
   "cell_type": "code",
   "execution_count": null,
   "metadata": {},
   "outputs": [],
   "source": []
  },
  {
   "cell_type": "markdown",
   "metadata": {},
   "source": []
  },
  {
   "cell_type": "code",
   "execution_count": null,
   "metadata": {},
   "outputs": [],
   "source": []
  }
 ],
 "metadata": {
  "kernelspec": {
   "display_name": "Python 3.9.7 64-bit",
   "name": "python397jvsc74a57bd0ac2eaa0ea0ebeafcc7822e65e46aa9d4f966f30b695406963e145ea4a91cd4fc"
  },
  "language_info": {
   "codemirror_mode": {
    "name": "ipython",
    "version": 3
   },
   "file_extension": ".py",
   "mimetype": "text/x-python",
   "name": "python",
   "nbconvert_exporter": "python",
   "pygments_lexer": "ipython3",
   "version": "3.9.7"
  },
  "metadata": {
   "interpreter": {
    "hash": "ac2eaa0ea0ebeafcc7822e65e46aa9d4f966f30b695406963e145ea4a91cd4fc"
   }
  },
  "orig_nbformat": 2
 },
 "nbformat": 4,
 "nbformat_minor": 2
}